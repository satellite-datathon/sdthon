{
 "cells": [
  {
   "cell_type": "code",
   "execution_count": 288,
   "metadata": {},
   "outputs": [],
   "source": [
    "import pandas as pd\n",
    "import glob\n",
    "import json "
   ]
  },
  {
   "cell_type": "code",
   "execution_count": 289,
   "metadata": {},
   "outputs": [],
   "source": [
    "geojson_files_ex = glob.glob('../../data/phase-02/geometries/geo-x7680-y10240.geojson')"
   ]
  },
  {
   "cell_type": "code",
   "execution_count": 290,
   "metadata": {},
   "outputs": [
    {
     "data": {
      "text/plain": [
       "['../../data/phase-02/geometries/geo-x7680-y10240.geojson']"
      ]
     },
     "execution_count": 290,
     "metadata": {},
     "output_type": "execute_result"
    }
   ],
   "source": [
    "geojson_files_ex"
   ]
  },
  {
   "cell_type": "code",
   "execution_count": 291,
   "metadata": {},
   "outputs": [],
   "source": [
    "json_file = open(geojson_files_ex[0])"
   ]
  },
  {
   "cell_type": "code",
   "execution_count": 292,
   "metadata": {},
   "outputs": [
    {
     "data": {
      "text/plain": [
       "<_io.TextIOWrapper name='../../data/phase-02/geometries/geo-x7680-y10240.geojson' mode='r' encoding='cp1252'>"
      ]
     },
     "execution_count": 292,
     "metadata": {},
     "output_type": "execute_result"
    }
   ],
   "source": [
    "json_file"
   ]
  },
  {
   "cell_type": "code",
   "execution_count": 293,
   "metadata": {},
   "outputs": [],
   "source": [
    "data = json.load(json_file)"
   ]
  },
  {
   "cell_type": "code",
   "execution_count": 294,
   "metadata": {},
   "outputs": [
    {
     "data": {
      "text/plain": [
       "{'type': 'FeatureCollection',\n",
       " 'crs': {'type': 'name',\n",
       "  'properties': {'name': 'urn:ogc:def:crs:OGC:1.3:CRS84'}},\n",
       " 'features': [{'type': 'Feature',\n",
       "   'properties': {},\n",
       "   'geometry': {'type': 'Polygon',\n",
       "    'coordinates': [[[148.69880265667112, -20.81291008367845],\n",
       "      [148.74789135375457, -20.8124269354772],\n",
       "      [148.74841411882176, -20.858591175163056],\n",
       "      [148.69931035985314, -20.859074739547466],\n",
       "      [148.69880265667112, -20.81291008367845]]]}}]}"
      ]
     },
     "execution_count": 294,
     "metadata": {},
     "output_type": "execute_result"
    }
   ],
   "source": [
    "data"
   ]
  },
  {
   "cell_type": "code",
   "execution_count": 295,
   "metadata": {},
   "outputs": [
    {
     "data": {
      "text/plain": [
       "'FeatureCollection'"
      ]
     },
     "execution_count": 295,
     "metadata": {},
     "output_type": "execute_result"
    }
   ],
   "source": [
    "data['type']"
   ]
  },
  {
   "cell_type": "code",
   "execution_count": 296,
   "metadata": {},
   "outputs": [
    {
     "data": {
      "text/plain": [
       "'urn:ogc:def:crs:OGC:1.3:CRS84'"
      ]
     },
     "execution_count": 296,
     "metadata": {},
     "output_type": "execute_result"
    }
   ],
   "source": [
    "data['crs']['properties']['name']"
   ]
  },
  {
   "cell_type": "code",
   "execution_count": 297,
   "metadata": {},
   "outputs": [
    {
     "data": {
      "text/plain": [
       "'Polygon'"
      ]
     },
     "execution_count": 297,
     "metadata": {},
     "output_type": "execute_result"
    }
   ],
   "source": [
    "data['features'][0]['geometry']['type']"
   ]
  },
  {
   "cell_type": "code",
   "execution_count": 298,
   "metadata": {},
   "outputs": [
    {
     "data": {
      "text/plain": [
       "[[[148.69880265667112, -20.81291008367845],\n",
       "  [148.74789135375457, -20.8124269354772],\n",
       "  [148.74841411882176, -20.858591175163056],\n",
       "  [148.69931035985314, -20.859074739547466],\n",
       "  [148.69880265667112, -20.81291008367845]]]"
      ]
     },
     "execution_count": 298,
     "metadata": {},
     "output_type": "execute_result"
    }
   ],
   "source": [
    "data['features'][0]['geometry']['coordinates']"
   ]
  },
  {
   "cell_type": "code",
   "execution_count": 299,
   "metadata": {},
   "outputs": [],
   "source": [
    "json_files_ex = glob.glob('../../data/phase-02/metadata/2016-12-22.json')"
   ]
  },
  {
   "cell_type": "code",
   "execution_count": 300,
   "metadata": {},
   "outputs": [
    {
     "data": {
      "text/plain": [
       "['../../data/phase-02/metadata/2016-12-22.json']"
      ]
     },
     "execution_count": 300,
     "metadata": {},
     "output_type": "execute_result"
    }
   ],
   "source": [
    "json_files_ex"
   ]
  },
  {
   "cell_type": "code",
   "execution_count": 301,
   "metadata": {},
   "outputs": [
    {
     "data": {
      "text/plain": [
       "{'cloud-cover': 26,\n",
       " 'metadata': {'collection': 'S2',\n",
       "  'license': {'licenseId': 'unlicensed',\n",
       "   'hasToBeSigned': 'never',\n",
       "   'grantedCountries': None,\n",
       "   'grantedOrganizationCountries': None,\n",
       "   'grantedFlags': None,\n",
       "   'viewService': 'public',\n",
       "   'signatureQuota': -1,\n",
       "   'description': {'shortName': 'No license'}},\n",
       "  'productIdentifier': 'S2A_MSIL1C_20161222T002102_N0204_R116_T55KFT_20161222T002059',\n",
       "  'parentIdentifier': None,\n",
       "  'title': 'S2A_MSIL1C_20161222T002102_N0204_R116_T55KFT_20161222T002059',\n",
       "  'description': None,\n",
       "  'organisationName': None,\n",
       "  'startDate': '2016-12-22T00:21:02.026Z',\n",
       "  'completionDate': '2016-12-22T00:21:02.026Z',\n",
       "  'productType': 'S2MSIL1C',\n",
       "  'processingLevel': 'L1C',\n",
       "  'platform': 'S2A',\n",
       "  'instrument': 'MSI',\n",
       "  'resolution': 0,\n",
       "  'sensorMode': None,\n",
       "  'orbitNumber': 116,\n",
       "  'quicklook': 'https://copernicus-dtn.nci.org.au/public/Sentinel-2/MSI/L1C/2016/2016-12/20S145E-25S150E/S2A_MSIL1C_20161222T002102_N0204_R116_T55KFT_20161222T002059.png',\n",
       "  'thumbnail': 'https://copernicus-dtn.nci.org.au/public/Sentinel-2/MSI/L1C/2016/2016-12/20S145E-25S150E/S2A_MSIL1C_20161222T002102_N0204_R116_T55KFT_20161222T002059.png',\n",
       "  'updated': '2018-02-06T13:23:32.969558Z',\n",
       "  'published': '2018-02-06T13:23:32.969558Z',\n",
       "  'snowCover': 0,\n",
       "  'cloudCover': 26,\n",
       "  'keywords': [{'id': '62f4365c66c1f64',\n",
       "    'name': 'Oceania',\n",
       "    'normalized': 'oceania',\n",
       "    'type': 'continent',\n",
       "    'href': 'https://copernicus.nci.org.au/sara.server/1.0/api/collections/S2/search.json?&lang=en&q=Oceania'},\n",
       "   {'id': '8f36daace0ea948',\n",
       "    'name': 'Australia',\n",
       "    'normalized': 'australia',\n",
       "    'type': 'country',\n",
       "    'parentHash': '62f4365c66c1f64',\n",
       "    'value': 65.86,\n",
       "    'gcover': 0.1,\n",
       "    'href': 'https://copernicus.nci.org.au/sara.server/1.0/api/collections/S2/search.json?&lang=en&q=Australia'},\n",
       "   {'id': '47c44d8523d145e',\n",
       "    'name': '_all',\n",
       "    'normalized': '_all',\n",
       "    'type': 'region',\n",
       "    'parentHash': '8f36daace0ea948',\n",
       "    'href': 'https://copernicus.nci.org.au/sara.server/1.0/api/collections/S2/search.json?&lang=en&q=_all'},\n",
       "   {'id': '72243e27011ac3a',\n",
       "    'name': 'Queensland',\n",
       "    'normalized': 'queensland',\n",
       "    'type': 'state',\n",
       "    'parentHash': '47c44d8523d145e',\n",
       "    'value': 65.99,\n",
       "    'gcover': 0.46,\n",
       "    'href': 'https://copernicus.nci.org.au/sara.server/1.0/api/collections/S2/search.json?&lang=en&q=Queensland'},\n",
       "   {'id': '6f61c304f417a39',\n",
       "    'name': 'Tropical',\n",
       "    'type': 'location',\n",
       "    'href': 'https://copernicus.nci.org.au/sara.server/1.0/api/collections/S2/search.json?&lang=en&q=Tropical'},\n",
       "   {'id': 'd817ecd5e7765d3',\n",
       "    'name': 'Southern',\n",
       "    'type': 'location',\n",
       "    'href': 'https://copernicus.nci.org.au/sara.server/1.0/api/collections/S2/search.json?&lang=en&q=Southern'},\n",
       "   {'id': '8e973c5726ef929',\n",
       "    'name': 'Coastal',\n",
       "    'type': 'location',\n",
       "    'href': 'https://copernicus.nci.org.au/sara.server/1.0/api/collections/S2/search.json?&lang=en&q=Coastal'},\n",
       "   {'id': '6278eea013ff0d3',\n",
       "    'name': 'Summer',\n",
       "    'type': 'season',\n",
       "    'href': 'https://copernicus.nci.org.au/sara.server/1.0/api/collections/S2/search.json?&lang=en&q=Summer'},\n",
       "   {'id': 'b7f78fb19004053',\n",
       "    'name': 'S2',\n",
       "    'type': 'collection',\n",
       "    'href': 'https://copernicus.nci.org.au/sara.server/1.0/api/collections/S2/search.json?&lang=en&q=S2'},\n",
       "   {'id': '7b0693d380587a1',\n",
       "    'name': 'S2MSIL1C',\n",
       "    'type': 'productType',\n",
       "    'href': 'https://copernicus.nci.org.au/sara.server/1.0/api/collections/S2/search.json?&lang=en&q=S2MSIL1C'},\n",
       "   {'id': '603ae1a7fe4f507',\n",
       "    'name': 'L1C',\n",
       "    'type': 'processingLevel',\n",
       "    'href': 'https://copernicus.nci.org.au/sara.server/1.0/api/collections/S2/search.json?&lang=en&q=L1C'},\n",
       "   {'id': 'afe9ad14455c260',\n",
       "    'name': 's2A',\n",
       "    'type': 'platform',\n",
       "    'href': 'https://copernicus.nci.org.au/sara.server/1.0/api/collections/S2/search.json?&lang=en&q=s2A'},\n",
       "   {'id': '503f8f6199f3e44',\n",
       "    'name': 'msi',\n",
       "    'type': 'instrument',\n",
       "    'parentHash': 'afe9ad14455c260',\n",
       "    'href': 'https://copernicus.nci.org.au/sara.server/1.0/api/collections/S2/search.json?&lang=en&q=msi'},\n",
       "   {'id': '8fb683ee11c8138',\n",
       "    'name': '2016',\n",
       "    'type': 'year',\n",
       "    'href': 'https://copernicus.nci.org.au/sara.server/1.0/api/collections/S2/search.json?&lang=en&q=2016'},\n",
       "   {'id': '21881df5c8bdcca',\n",
       "    'name': 'December',\n",
       "    'type': 'month',\n",
       "    'parentHash': '8fb683ee11c8138',\n",
       "    'href': 'https://copernicus.nci.org.au/sara.server/1.0/api/collections/S2/search.json?&lang=en&q=December'},\n",
       "   {'id': 'ff6a57b068060be',\n",
       "    'name': '22',\n",
       "    'type': 'day',\n",
       "    'parentHash': '21881df5c8bdcca',\n",
       "    'href': 'https://copernicus.nci.org.au/sara.server/1.0/api/collections/S2/search.json?&lang=en&q=22'}],\n",
       "  'centroid': {'type': 'Point',\n",
       "   'coordinates': [148.48600839605, -20.384985615979]},\n",
       "  'softwareVersion': '02.04',\n",
       "  'processingTime': '2016-12-22T00:20:59Z',\n",
       "  'services': {'download': {'url': 'https://copernicus.nci.org.au/sara.server/1.0/collections/S2/c739dd8c-131c-52cb-9f9e-4885a6c36544/download',\n",
       "    'mimeType': 'application/unknown',\n",
       "    'size': 749641688,\n",
       "    'checksum': 'md5=7352807120C7ED0240037B4A118CA612'}},\n",
       "  'links': [{'rel': 'self',\n",
       "    'type': 'application/json',\n",
       "    'title': 'GeoJSON link for c739dd8c-131c-52cb-9f9e-4885a6c36544',\n",
       "    'href': 'https://copernicus.nci.org.au/sara.server/1.0/collections/S2/c739dd8c-131c-52cb-9f9e-4885a6c36544.json?&lang=en'}]}}"
      ]
     },
     "execution_count": 301,
     "metadata": {},
     "output_type": "execute_result"
    }
   ],
   "source": [
    "json.load(open(json_files_ex[0]))"
   ]
  },
  {
   "cell_type": "code",
   "execution_count": 302,
   "metadata": {},
   "outputs": [
    {
     "data": {
      "text/plain": [
       "'../../data/phase-02/metadata/2016-12-22.json'"
      ]
     },
     "execution_count": 302,
     "metadata": {},
     "output_type": "execute_result"
    }
   ],
   "source": [
    "json_files_ex[0]"
   ]
  },
  {
   "cell_type": "code",
   "execution_count": 303,
   "metadata": {},
   "outputs": [],
   "source": [
    "l = data['features'][0]['geometry']['coordinates'][0][0:4]"
   ]
  },
  {
   "cell_type": "code",
   "execution_count": 304,
   "metadata": {},
   "outputs": [],
   "source": [
    "names = ['x1','y1','x2','y2','x3','y3','x4','y4']"
   ]
  },
  {
   "cell_type": "code",
   "execution_count": 305,
   "metadata": {},
   "outputs": [],
   "source": [
    "flatten = lambda l: [item for sublist in l for item in sublist]"
   ]
  },
  {
   "cell_type": "code",
   "execution_count": 306,
   "metadata": {},
   "outputs": [
    {
     "data": {
      "text/plain": [
       "[('x1', 148.69880265667112),\n",
       " ('y1', -20.81291008367845),\n",
       " ('x2', 148.74789135375457),\n",
       " ('y2', -20.8124269354772),\n",
       " ('x3', 148.74841411882176),\n",
       " ('y3', -20.858591175163056),\n",
       " ('x4', 148.69931035985314),\n",
       " ('y4', -20.859074739547466)]"
      ]
     },
     "execution_count": 306,
     "metadata": {},
     "output_type": "execute_result"
    }
   ],
   "source": [
    "#flatten(l)\n",
    "list(zip(names, flatten(l)))"
   ]
  },
  {
   "cell_type": "code",
   "execution_count": 307,
   "metadata": {},
   "outputs": [
    {
     "data": {
      "text/html": [
       "<div>\n",
       "<style scoped>\n",
       "    .dataframe tbody tr th:only-of-type {\n",
       "        vertical-align: middle;\n",
       "    }\n",
       "\n",
       "    .dataframe tbody tr th {\n",
       "        vertical-align: top;\n",
       "    }\n",
       "\n",
       "    .dataframe thead th {\n",
       "        text-align: right;\n",
       "    }\n",
       "</style>\n",
       "<table border=\"1\" class=\"dataframe\">\n",
       "  <thead>\n",
       "    <tr style=\"text-align: right;\">\n",
       "      <th></th>\n",
       "      <th>x1</th>\n",
       "      <th>y1</th>\n",
       "      <th>x2</th>\n",
       "      <th>y2</th>\n",
       "      <th>x3</th>\n",
       "      <th>y3</th>\n",
       "      <th>x4</th>\n",
       "      <th>y4</th>\n",
       "    </tr>\n",
       "  </thead>\n",
       "  <tbody>\n",
       "    <tr>\n",
       "      <td>0</td>\n",
       "      <td>148.698803</td>\n",
       "      <td>-20.81291</td>\n",
       "      <td>148.747891</td>\n",
       "      <td>-20.812427</td>\n",
       "      <td>148.748414</td>\n",
       "      <td>-20.858591</td>\n",
       "      <td>148.69931</td>\n",
       "      <td>-20.859075</td>\n",
       "    </tr>\n",
       "  </tbody>\n",
       "</table>\n",
       "</div>"
      ],
      "text/plain": [
       "           x1        y1          x2         y2          x3         y3  \\\n",
       "0  148.698803 -20.81291  148.747891 -20.812427  148.748414 -20.858591   \n",
       "\n",
       "          x4         y4  \n",
       "0  148.69931 -20.859075  "
      ]
     },
     "execution_count": 307,
     "metadata": {},
     "output_type": "execute_result"
    }
   ],
   "source": [
    "pd.DataFrame([flatten(l)], columns=list(names))"
   ]
  },
  {
   "cell_type": "code",
   "execution_count": 308,
   "metadata": {},
   "outputs": [
    {
     "data": {
      "text/plain": [
       "[[148.69880265667112,\n",
       "  -20.81291008367845,\n",
       "  148.74789135375457,\n",
       "  -20.8124269354772,\n",
       "  148.74841411882176,\n",
       "  -20.858591175163056,\n",
       "  148.69931035985314,\n",
       "  -20.859074739547466]]"
      ]
     },
     "execution_count": 308,
     "metadata": {},
     "output_type": "execute_result"
    }
   ],
   "source": [
    "#pd.DataFrame(flatten(l).T, columns=list(names))\n",
    "[flatten(l)]"
   ]
  },
  {
   "cell_type": "code",
   "execution_count": 309,
   "metadata": {},
   "outputs": [
    {
     "data": {
      "text/html": [
       "<div>\n",
       "<style scoped>\n",
       "    .dataframe tbody tr th:only-of-type {\n",
       "        vertical-align: middle;\n",
       "    }\n",
       "\n",
       "    .dataframe tbody tr th {\n",
       "        vertical-align: top;\n",
       "    }\n",
       "\n",
       "    .dataframe thead th {\n",
       "        text-align: right;\n",
       "    }\n",
       "</style>\n",
       "<table border=\"1\" class=\"dataframe\">\n",
       "  <thead>\n",
       "    <tr style=\"text-align: right;\">\n",
       "      <th></th>\n",
       "      <th>x1</th>\n",
       "      <th>y1</th>\n",
       "      <th>x2</th>\n",
       "      <th>y2</th>\n",
       "      <th>x3</th>\n",
       "      <th>y3</th>\n",
       "      <th>x4</th>\n",
       "      <th>y4</th>\n",
       "    </tr>\n",
       "  </thead>\n",
       "  <tbody>\n",
       "    <tr>\n",
       "      <td>0</td>\n",
       "      <td>148.698803</td>\n",
       "      <td>-20.81291</td>\n",
       "      <td>148.747891</td>\n",
       "      <td>-20.812427</td>\n",
       "      <td>148.748414</td>\n",
       "      <td>-20.858591</td>\n",
       "      <td>148.69931</td>\n",
       "      <td>-20.859075</td>\n",
       "    </tr>\n",
       "  </tbody>\n",
       "</table>\n",
       "</div>"
      ],
      "text/plain": [
       "           x1        y1          x2         y2          x3         y3  \\\n",
       "0  148.698803 -20.81291  148.747891 -20.812427  148.748414 -20.858591   \n",
       "\n",
       "          x4         y4  \n",
       "0  148.69931 -20.859075  "
      ]
     },
     "execution_count": 309,
     "metadata": {},
     "output_type": "execute_result"
    }
   ],
   "source": [
    "pd.DataFrame([flatten(l)], columns=list(names))"
   ]
  },
  {
   "cell_type": "code",
   "execution_count": 310,
   "metadata": {},
   "outputs": [],
   "source": [
    "import json as j\n",
    "import pandas as pd\n",
    "import glob\n",
    "\n",
    "from pkg_resources import resource_filename as fpath\n",
    "import sys\n",
    "sys.path.append(fpath(__name__, \"\"))\n",
    "fp = fpath(__name__, \"..\\..\\data\\phase-02\\metadata\")\n",
    "\n",
    "final = pd.DataFrame()\n",
    "files = glob.glob('../../data/phase-02/geometries/*.geojson')\n",
    "\n",
    "names = ['x1','y1','x2','y2','x3','y3','x4','y4', 'crs', 'tile_x', 'tile_y']\n",
    "flatten = lambda l: [item for sublist in l for item in sublist]\n",
    "\n",
    "#https://gis.stackexchange.com/questions/54073/what-is-crs84-projection\n",
    "#f = files[0]\n",
    "for f in files:\n",
    "    data = json.load(open(f))\n",
    "    crs = data['crs']['properties']['name'].split(\":\")[6]\n",
    "    l = data['features'][0]['geometry']['coordinates'][0][0:4]\n",
    "    x = f.split(\"\\\\\")[1].split(\".\")[0].split(\"-\")[1][1:]\n",
    "    y = f.split(\"\\\\\")[1].split(\".\")[0].split(\"-\")[2][1:]\n",
    "    l.append([crs, x, y])\n",
    "    [flatten(l)]\n",
    "    df = pd.DataFrame([flatten(l)], columns=list(names))\n",
    "    final = final.append(df)\n",
    "final.to_csv(\"../../data/1_raw/coordinates.csv\", header=True, index=False)"
   ]
  },
  {
   "cell_type": "code",
   "execution_count": 311,
   "metadata": {},
   "outputs": [
    {
     "name": "stdout",
     "output_type": "stream",
     "text": [
      "../../data/phase-02/geometries\\geo-x0-y0.geojson, 9728, 9728\n"
     ]
    }
   ],
   "source": [
    "files[0]\n",
    "x = f.split(\"\\\\\")[1].split(\".\")[0].split(\"-\")[1][1:]\n",
    "y = f.split(\"\\\\\")[1].split(\".\")[0].split(\"-\")[2][1:]\n",
    "print(\"%s, %s, %s\" % (files[0], x, y))"
   ]
  },
  {
   "cell_type": "code",
   "execution_count": 312,
   "metadata": {},
   "outputs": [
    {
     "name": "stdout",
     "output_type": "stream",
     "text": [
      "9728\n",
      "9728\n"
     ]
    },
    {
     "data": {
      "text/html": [
       "<div>\n",
       "<style scoped>\n",
       "    .dataframe tbody tr th:only-of-type {\n",
       "        vertical-align: middle;\n",
       "    }\n",
       "\n",
       "    .dataframe tbody tr th {\n",
       "        vertical-align: top;\n",
       "    }\n",
       "\n",
       "    .dataframe thead th {\n",
       "        text-align: right;\n",
       "    }\n",
       "</style>\n",
       "<table border=\"1\" class=\"dataframe\">\n",
       "  <thead>\n",
       "    <tr style=\"text-align: right;\">\n",
       "      <th></th>\n",
       "      <th>x1</th>\n",
       "      <th>y1</th>\n",
       "      <th>x2</th>\n",
       "      <th>y2</th>\n",
       "      <th>x3</th>\n",
       "      <th>y3</th>\n",
       "      <th>x4</th>\n",
       "      <th>y4</th>\n",
       "      <th>crs</th>\n",
       "      <th>tile_x</th>\n",
       "      <th>tile_y</th>\n",
       "    </tr>\n",
       "  </thead>\n",
       "  <tbody>\n",
       "    <tr>\n",
       "      <td>0</td>\n",
       "      <td>147.955299</td>\n",
       "      <td>-19.893321</td>\n",
       "      <td>148.004101</td>\n",
       "      <td>-19.893050</td>\n",
       "      <td>148.004399</td>\n",
       "      <td>-19.939217</td>\n",
       "      <td>147.955579</td>\n",
       "      <td>-19.939493</td>\n",
       "      <td>CRS84</td>\n",
       "      <td>0</td>\n",
       "      <td>0</td>\n",
       "    </tr>\n",
       "    <tr>\n",
       "      <td>0</td>\n",
       "      <td>147.955859</td>\n",
       "      <td>-19.985845</td>\n",
       "      <td>148.004697</td>\n",
       "      <td>-19.985570</td>\n",
       "      <td>148.004992</td>\n",
       "      <td>-20.031742</td>\n",
       "      <td>147.956139</td>\n",
       "      <td>-20.032016</td>\n",
       "      <td>CRS84</td>\n",
       "      <td>0</td>\n",
       "      <td>1024</td>\n",
       "    </tr>\n",
       "    <tr>\n",
       "      <td>0</td>\n",
       "      <td>147.960934</td>\n",
       "      <td>-20.818511</td>\n",
       "      <td>148.010033</td>\n",
       "      <td>-20.818238</td>\n",
       "      <td>148.010331</td>\n",
       "      <td>-20.864404</td>\n",
       "      <td>147.961217</td>\n",
       "      <td>-20.864678</td>\n",
       "      <td>CRS84</td>\n",
       "      <td>0</td>\n",
       "      <td>10240</td>\n",
       "    </tr>\n",
       "    <tr>\n",
       "      <td>0</td>\n",
       "      <td>147.956140</td>\n",
       "      <td>-20.032106</td>\n",
       "      <td>148.004992</td>\n",
       "      <td>-20.031832</td>\n",
       "      <td>148.005287</td>\n",
       "      <td>-20.078003</td>\n",
       "      <td>147.956420</td>\n",
       "      <td>-20.078277</td>\n",
       "      <td>CRS84</td>\n",
       "      <td>0</td>\n",
       "      <td>1536</td>\n",
       "    </tr>\n",
       "    <tr>\n",
       "      <td>0</td>\n",
       "      <td>147.956421</td>\n",
       "      <td>-20.078367</td>\n",
       "      <td>148.005288</td>\n",
       "      <td>-20.078094</td>\n",
       "      <td>148.005582</td>\n",
       "      <td>-20.124264</td>\n",
       "      <td>147.956701</td>\n",
       "      <td>-20.124538</td>\n",
       "      <td>CRS84</td>\n",
       "      <td>0</td>\n",
       "      <td>2048</td>\n",
       "    </tr>\n",
       "  </tbody>\n",
       "</table>\n",
       "</div>"
      ],
      "text/plain": [
       "           x1         y1          x2         y2          x3         y3  \\\n",
       "0  147.955299 -19.893321  148.004101 -19.893050  148.004399 -19.939217   \n",
       "0  147.955859 -19.985845  148.004697 -19.985570  148.004992 -20.031742   \n",
       "0  147.960934 -20.818511  148.010033 -20.818238  148.010331 -20.864404   \n",
       "0  147.956140 -20.032106  148.004992 -20.031832  148.005287 -20.078003   \n",
       "0  147.956421 -20.078367  148.005288 -20.078094  148.005582 -20.124264   \n",
       "\n",
       "           x4         y4    crs tile_x tile_y  \n",
       "0  147.955579 -19.939493  CRS84      0      0  \n",
       "0  147.956139 -20.032016  CRS84      0   1024  \n",
       "0  147.961217 -20.864678  CRS84      0  10240  \n",
       "0  147.956420 -20.078277  CRS84      0   1536  \n",
       "0  147.956701 -20.124538  CRS84      0   2048  "
      ]
     },
     "execution_count": 312,
     "metadata": {},
     "output_type": "execute_result"
    }
   ],
   "source": [
    "#https://stackabuse.com/reading-and-writing-json-to-a-file-in-python/\n",
    "print(x)\n",
    "print(y)\n",
    "final.head()"
   ]
  },
  {
   "cell_type": "code",
   "execution_count": 313,
   "metadata": {},
   "outputs": [
    {
     "data": {
      "text/html": [
       "<div>\n",
       "<style scoped>\n",
       "    .dataframe tbody tr th:only-of-type {\n",
       "        vertical-align: middle;\n",
       "    }\n",
       "\n",
       "    .dataframe tbody tr th {\n",
       "        vertical-align: top;\n",
       "    }\n",
       "\n",
       "    .dataframe thead th {\n",
       "        text-align: right;\n",
       "    }\n",
       "</style>\n",
       "<table border=\"1\" class=\"dataframe\">\n",
       "  <thead>\n",
       "    <tr style=\"text-align: right;\">\n",
       "      <th></th>\n",
       "      <th>x1</th>\n",
       "      <th>y1</th>\n",
       "      <th>x2</th>\n",
       "      <th>y2</th>\n",
       "      <th>x3</th>\n",
       "      <th>y3</th>\n",
       "      <th>x4</th>\n",
       "      <th>y4</th>\n",
       "      <th>crs</th>\n",
       "      <th>tile_x</th>\n",
       "      <th>tile_y</th>\n",
       "    </tr>\n",
       "  </thead>\n",
       "  <tbody>\n",
       "    <tr>\n",
       "      <td>0</td>\n",
       "      <td>148.894969</td>\n",
       "      <td>-20.764639</td>\n",
       "      <td>148.94404</td>\n",
       "      <td>-20.764103</td>\n",
       "      <td>148.944623</td>\n",
       "      <td>-20.810265</td>\n",
       "      <td>148.895537</td>\n",
       "      <td>-20.810802</td>\n",
       "      <td>CRS84</td>\n",
       "      <td>9728</td>\n",
       "      <td>9728</td>\n",
       "    </tr>\n",
       "  </tbody>\n",
       "</table>\n",
       "</div>"
      ],
      "text/plain": [
       "           x1         y1         x2         y2          x3         y3  \\\n",
       "0  148.894969 -20.764639  148.94404 -20.764103  148.944623 -20.810265   \n",
       "\n",
       "           x4         y4    crs tile_x tile_y  \n",
       "0  148.895537 -20.810802  CRS84   9728   9728  "
      ]
     },
     "execution_count": 313,
     "metadata": {},
     "output_type": "execute_result"
    }
   ],
   "source": [
    "df"
   ]
  },
  {
   "cell_type": "code",
   "execution_count": 314,
   "metadata": {},
   "outputs": [
    {
     "ename": "IndexError",
     "evalue": "list index out of range",
     "output_type": "error",
     "traceback": [
      "\u001b[1;31m---------------------------------------------------------------------------\u001b[0m",
      "\u001b[1;31mIndexError\u001b[0m                                Traceback (most recent call last)",
      "\u001b[1;32m<ipython-input-314-d116d432fbac>\u001b[0m in \u001b[0;36m<module>\u001b[1;34m\u001b[0m\n\u001b[1;32m----> 1\u001b[1;33m \u001b[0mdf\u001b[0m\u001b[1;33m[\u001b[0m\u001b[1;34m'crs'\u001b[0m\u001b[1;33m]\u001b[0m\u001b[1;33m[\u001b[0m\u001b[1;36m0\u001b[0m\u001b[1;33m]\u001b[0m\u001b[1;33m.\u001b[0m\u001b[0msplit\u001b[0m\u001b[1;33m(\u001b[0m\u001b[1;34m\":\"\u001b[0m\u001b[1;33m)\u001b[0m\u001b[1;33m[\u001b[0m\u001b[1;36m6\u001b[0m\u001b[1;33m]\u001b[0m\u001b[1;33m\u001b[0m\u001b[1;33m\u001b[0m\u001b[0m\n\u001b[0m",
      "\u001b[1;31mIndexError\u001b[0m: list index out of range"
     ]
    }
   ],
   "source": [
    "df['crs'][0].split(\":\")[6]"
   ]
  }
 ],
 "metadata": {
  "kernelspec": {
   "display_name": "Python 3",
   "language": "python",
   "name": "python3"
  },
  "language_info": {
   "codemirror_mode": {
    "name": "ipython",
    "version": 3
   },
   "file_extension": ".py",
   "mimetype": "text/x-python",
   "name": "python",
   "nbconvert_exporter": "python",
   "pygments_lexer": "ipython3",
   "version": "3.7.3"
  }
 },
 "nbformat": 4,
 "nbformat_minor": 2
}
