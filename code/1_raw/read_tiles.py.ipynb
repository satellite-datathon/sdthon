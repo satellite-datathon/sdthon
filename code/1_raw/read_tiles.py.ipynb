{
 "cells": [
  {
   "cell_type": "code",
   "execution_count": 164,
   "metadata": {},
   "outputs": [],
   "source": [
    "import pandas as pd\n",
    "import glob"
   ]
  },
  {
   "cell_type": "code",
   "execution_count": 165,
   "metadata": {},
   "outputs": [
    {
     "data": {
      "text/html": [
       "<div>\n",
       "<style scoped>\n",
       "    .dataframe tbody tr th:only-of-type {\n",
       "        vertical-align: middle;\n",
       "    }\n",
       "\n",
       "    .dataframe tbody tr th {\n",
       "        vertical-align: top;\n",
       "    }\n",
       "\n",
       "    .dataframe thead th {\n",
       "        text-align: right;\n",
       "    }\n",
       "</style>\n",
       "<table border=\"1\" class=\"dataframe\">\n",
       "  <thead>\n",
       "    <tr style=\"text-align: right;\">\n",
       "      <th></th>\n",
       "      <th>tile_x</th>\n",
       "      <th>tile_y</th>\n",
       "      <th>date</th>\n",
       "    </tr>\n",
       "  </thead>\n",
       "  <tbody>\n",
       "  </tbody>\n",
       "</table>\n",
       "</div>"
      ],
      "text/plain": [
       "Empty DataFrame\n",
       "Columns: [tile_x, tile_y, date]\n",
       "Index: []"
      ]
     },
     "execution_count": 165,
     "metadata": {},
     "output_type": "execute_result"
    }
   ],
   "source": [
    "pd.DataFrame(columns=[\"tile_x\", \"tile_y\", \"date\"])"
   ]
  },
  {
   "cell_type": "code",
   "execution_count": 166,
   "metadata": {},
   "outputs": [
    {
     "name": "stdout",
     "output_type": "stream",
     "text": [
      "demo.py\n",
      "image_hist.py\n",
      "ndvi.ipynb\n",
      "ndvi_calculation.py\n",
      "read_json.py\n",
      "read_tiles.py.ipynb\n"
     ]
    }
   ],
   "source": [
    "!ls"
   ]
  },
  {
   "cell_type": "code",
   "execution_count": 167,
   "metadata": {},
   "outputs": [],
   "source": [
    "TCI_files_ex = glob.glob('../../data/phase-02/sugarcanetiles/7680-10240-TCI*.png')"
   ]
  },
  {
   "cell_type": "code",
   "execution_count": 168,
   "metadata": {},
   "outputs": [
    {
     "data": {
      "text/plain": [
       "71"
      ]
     },
     "execution_count": 168,
     "metadata": {},
     "output_type": "execute_result"
    }
   ],
   "source": [
    "len(TCI_files_ex)"
   ]
  },
  {
   "cell_type": "code",
   "execution_count": 169,
   "metadata": {},
   "outputs": [
    {
     "name": "stdout",
     "output_type": "stream",
     "text": [
      "7680-10240-TCI-2016-12-22 7680 10240 20161222\n"
     ]
    }
   ],
   "source": [
    "filename = TCI_files_ex[0].split('\\\\')[1]\n",
    "fname = filename.split('.')[0]\n",
    "tile_x = fname.split('-')[0]\n",
    "tile_y = fname.split('-')[1]\n",
    "date = fname.split('-')[3] + fname.split('-')[4] + fname.split('-')[5]\n",
    "print(fname, \"%s %s %s\" % (tile_x, tile_y, date))"
   ]
  },
  {
   "cell_type": "code",
   "execution_count": 170,
   "metadata": {},
   "outputs": [],
   "source": [
    "TCI_files = glob.glob('../../data/phase-02/sugarcanetiles/*-*-TCI*.png')"
   ]
  },
  {
   "cell_type": "code",
   "execution_count": 171,
   "metadata": {},
   "outputs": [
    {
     "data": {
      "text/plain": [
       "4615"
      ]
     },
     "execution_count": 171,
     "metadata": {},
     "output_type": "execute_result"
    }
   ],
   "source": [
    "len(TCI_files)"
   ]
  },
  {
   "cell_type": "code",
   "execution_count": 172,
   "metadata": {},
   "outputs": [
    {
     "name": "stdout",
     "output_type": "stream",
     "text": [
      "4615\n"
     ]
    }
   ],
   "source": [
    "i = 0\n",
    "df = pd.DataFrame(columns=[\"tile_x\", \"tile_y\", \"date\"])\n",
    "for TCI_file in TCI_files:\n",
    "    #print(TCI_file)\n",
    "    filename = TCI_file.split('\\\\')[1]\n",
    "    fname = filename.split('.')[0]\n",
    "    tile_x = fname.split('-')[0]\n",
    "    tile_y = fname.split('-')[1]\n",
    "    date = fname.split('-')[3] + \"-\" + fname.split('-')[4] +  \"-\" + fname.split('-')[5]\n",
    "    #print(fname, \"%s %s %s\" % (tile_x, tile_y, date))\n",
    "    row = pd.DataFrame([[tile_x, tile_y, date]], columns=['tile_x', 'tile_y', 'date'])\n",
    "    df = df.append(row, ignore_index=True)\n",
    "    i += 1\n",
    "print(i)"
   ]
  },
  {
   "cell_type": "code",
   "execution_count": 173,
   "metadata": {},
   "outputs": [],
   "source": [
    "x = pd.DataFrame([[tile_x, tile_y, date]], columns=['tile_x', 'tile_y', 'date'])\n"
   ]
  },
  {
   "cell_type": "code",
   "execution_count": 174,
   "metadata": {},
   "outputs": [
    {
     "data": {
      "text/plain": [
       "0       1536\n",
       "1       1536\n",
       "2       1536\n",
       "3       1536\n",
       "4       1536\n",
       "        ... \n",
       "4610    8704\n",
       "4611    8704\n",
       "4612    8704\n",
       "4613    8704\n",
       "4614    8704\n",
       "Name: tile_x, Length: 4615, dtype: object"
      ]
     },
     "execution_count": 174,
     "metadata": {},
     "output_type": "execute_result"
    }
   ],
   "source": [
    "df['tile_x']\n"
   ]
  },
  {
   "cell_type": "code",
   "execution_count": 175,
   "metadata": {},
   "outputs": [],
   "source": [
    "tiles = df[['tile_x']] + df[['tile_y']]"
   ]
  },
  {
   "cell_type": "code",
   "execution_count": 176,
   "metadata": {},
   "outputs": [],
   "source": [
    "df['tile'] = df.apply(lambda x : x['tile_x'] + \"_\" + x['tile_y'], axis=1)"
   ]
  },
  {
   "cell_type": "code",
   "execution_count": 177,
   "metadata": {},
   "outputs": [],
   "source": [
    "tiles = df['tile'].value_counts()\n",
    "t = tiles.to_frame()\n",
    "t.to_csv(\"../../data/1_raw/tiles.csv\", header=False)"
   ]
  },
  {
   "cell_type": "code",
   "execution_count": 178,
   "metadata": {},
   "outputs": [
    {
     "data": {
      "text/plain": [
       "<bound method Series.unique of 0        1536_1024\n",
       "1        1536_1024\n",
       "2        1536_1024\n",
       "3        1536_1024\n",
       "4        1536_1024\n",
       "           ...    \n",
       "4610    8704_10240\n",
       "4611    8704_10240\n",
       "4612    8704_10240\n",
       "4613    8704_10240\n",
       "4614    8704_10240\n",
       "Name: tile, Length: 4615, dtype: object>"
      ]
     },
     "execution_count": 178,
     "metadata": {},
     "output_type": "execute_result"
    }
   ],
   "source": [
    "df['tile'].unique"
   ]
  },
  {
   "cell_type": "code",
   "execution_count": 179,
   "metadata": {},
   "outputs": [],
   "source": [
    "tiles_df = pd.read_csv(\"../../data/1_raw/tiles.csv\", names=[\"tile\", \"N_dates\"])\n",
    "tiles_df['tile_x'] = tiles_df.apply(lambda x : x['tile'].split('_')[0], axis=1)\n",
    "tiles_df['tile_y'] = tiles_df.apply(lambda x : x['tile'].split('_')[1], axis=1)"
   ]
  },
  {
   "cell_type": "code",
   "execution_count": 180,
   "metadata": {},
   "outputs": [
    {
     "data": {
      "text/html": [
       "<div>\n",
       "<style scoped>\n",
       "    .dataframe tbody tr th:only-of-type {\n",
       "        vertical-align: middle;\n",
       "    }\n",
       "\n",
       "    .dataframe tbody tr th {\n",
       "        vertical-align: top;\n",
       "    }\n",
       "\n",
       "    .dataframe thead th {\n",
       "        text-align: right;\n",
       "    }\n",
       "</style>\n",
       "<table border=\"1\" class=\"dataframe\">\n",
       "  <thead>\n",
       "    <tr style=\"text-align: right;\">\n",
       "      <th></th>\n",
       "      <th>tile</th>\n",
       "      <th>N_dates</th>\n",
       "      <th>tile_x</th>\n",
       "      <th>tile_y</th>\n",
       "    </tr>\n",
       "  </thead>\n",
       "  <tbody>\n",
       "    <tr>\n",
       "      <td>17</td>\n",
       "      <td>1536_1024</td>\n",
       "      <td>71</td>\n",
       "      <td>1536</td>\n",
       "      <td>1024</td>\n",
       "    </tr>\n",
       "    <tr>\n",
       "      <td>8</td>\n",
       "      <td>1536_1536</td>\n",
       "      <td>71</td>\n",
       "      <td>1536</td>\n",
       "      <td>1536</td>\n",
       "    </tr>\n",
       "    <tr>\n",
       "      <td>2</td>\n",
       "      <td>2048_1024</td>\n",
       "      <td>71</td>\n",
       "      <td>2048</td>\n",
       "      <td>1024</td>\n",
       "    </tr>\n",
       "    <tr>\n",
       "      <td>21</td>\n",
       "      <td>2048_1536</td>\n",
       "      <td>71</td>\n",
       "      <td>2048</td>\n",
       "      <td>1536</td>\n",
       "    </tr>\n",
       "    <tr>\n",
       "      <td>30</td>\n",
       "      <td>4608_4608</td>\n",
       "      <td>71</td>\n",
       "      <td>4608</td>\n",
       "      <td>4608</td>\n",
       "    </tr>\n",
       "    <tr>\n",
       "      <td>...</td>\n",
       "      <td>...</td>\n",
       "      <td>...</td>\n",
       "      <td>...</td>\n",
       "      <td>...</td>\n",
       "    </tr>\n",
       "    <tr>\n",
       "      <td>16</td>\n",
       "      <td>7680_5120</td>\n",
       "      <td>71</td>\n",
       "      <td>7680</td>\n",
       "      <td>5120</td>\n",
       "    </tr>\n",
       "    <tr>\n",
       "      <td>31</td>\n",
       "      <td>7680_5632</td>\n",
       "      <td>71</td>\n",
       "      <td>7680</td>\n",
       "      <td>5632</td>\n",
       "    </tr>\n",
       "    <tr>\n",
       "      <td>12</td>\n",
       "      <td>7680_9728</td>\n",
       "      <td>71</td>\n",
       "      <td>7680</td>\n",
       "      <td>9728</td>\n",
       "    </tr>\n",
       "    <tr>\n",
       "      <td>44</td>\n",
       "      <td>8192_10240</td>\n",
       "      <td>71</td>\n",
       "      <td>8192</td>\n",
       "      <td>10240</td>\n",
       "    </tr>\n",
       "    <tr>\n",
       "      <td>14</td>\n",
       "      <td>8704_10240</td>\n",
       "      <td>71</td>\n",
       "      <td>8704</td>\n",
       "      <td>10240</td>\n",
       "    </tr>\n",
       "  </tbody>\n",
       "</table>\n",
       "<p>65 rows × 4 columns</p>\n",
       "</div>"
      ],
      "text/plain": [
       "          tile  N_dates tile_x tile_y\n",
       "17   1536_1024       71   1536   1024\n",
       "8    1536_1536       71   1536   1536\n",
       "2    2048_1024       71   2048   1024\n",
       "21   2048_1536       71   2048   1536\n",
       "30   4608_4608       71   4608   4608\n",
       "..         ...      ...    ...    ...\n",
       "16   7680_5120       71   7680   5120\n",
       "31   7680_5632       71   7680   5632\n",
       "12   7680_9728       71   7680   9728\n",
       "44  8192_10240       71   8192  10240\n",
       "14  8704_10240       71   8704  10240\n",
       "\n",
       "[65 rows x 4 columns]"
      ]
     },
     "execution_count": 180,
     "metadata": {},
     "output_type": "execute_result"
    }
   ],
   "source": [
    "tiles_df = tiles_df = tiles_df.sort_values(by='tile')\n",
    "tiles_df.to_csv(\"../../data/1_raw/tiles.csv\", header=True, index=False)\n",
    "tiles_df"
   ]
  },
  {
   "cell_type": "code",
   "execution_count": 181,
   "metadata": {},
   "outputs": [
    {
     "data": {
      "text/plain": [
       "17     1536_1024\n",
       "8      1536_1536\n",
       "2      2048_1024\n",
       "21     2048_1536\n",
       "30     4608_4608\n",
       "         ...    \n",
       "16     7680_5120\n",
       "31     7680_5632\n",
       "12     7680_9728\n",
       "44    8192_10240\n",
       "14    8704_10240\n",
       "Name: tile, Length: 65, dtype: object"
      ]
     },
     "execution_count": 181,
     "metadata": {},
     "output_type": "execute_result"
    }
   ],
   "source": [
    "tiles_df['tile'].sort_values()"
   ]
  },
  {
   "cell_type": "code",
   "execution_count": 182,
   "metadata": {},
   "outputs": [
    {
     "data": {
      "text/html": [
       "<div>\n",
       "<style scoped>\n",
       "    .dataframe tbody tr th:only-of-type {\n",
       "        vertical-align: middle;\n",
       "    }\n",
       "\n",
       "    .dataframe tbody tr th {\n",
       "        vertical-align: top;\n",
       "    }\n",
       "\n",
       "    .dataframe thead th {\n",
       "        text-align: right;\n",
       "    }\n",
       "</style>\n",
       "<table border=\"1\" class=\"dataframe\">\n",
       "  <thead>\n",
       "    <tr style=\"text-align: right;\">\n",
       "      <th></th>\n",
       "      <th>date</th>\n",
       "    </tr>\n",
       "  </thead>\n",
       "  <tbody>\n",
       "    <tr>\n",
       "      <td>2018-07-15</td>\n",
       "      <td>65</td>\n",
       "    </tr>\n",
       "    <tr>\n",
       "      <td>2019-07-20</td>\n",
       "      <td>65</td>\n",
       "    </tr>\n",
       "    <tr>\n",
       "      <td>2017-07-10</td>\n",
       "      <td>65</td>\n",
       "    </tr>\n",
       "    <tr>\n",
       "      <td>2017-07-30</td>\n",
       "      <td>65</td>\n",
       "    </tr>\n",
       "    <tr>\n",
       "      <td>2019-03-12</td>\n",
       "      <td>65</td>\n",
       "    </tr>\n",
       "    <tr>\n",
       "      <td>...</td>\n",
       "      <td>...</td>\n",
       "    </tr>\n",
       "    <tr>\n",
       "      <td>2017-12-27</td>\n",
       "      <td>65</td>\n",
       "    </tr>\n",
       "    <tr>\n",
       "      <td>2017-09-08</td>\n",
       "      <td>65</td>\n",
       "    </tr>\n",
       "    <tr>\n",
       "      <td>2017-05-01</td>\n",
       "      <td>65</td>\n",
       "    </tr>\n",
       "    <tr>\n",
       "      <td>2019-01-21</td>\n",
       "      <td>65</td>\n",
       "    </tr>\n",
       "    <tr>\n",
       "      <td>2018-06-05</td>\n",
       "      <td>65</td>\n",
       "    </tr>\n",
       "  </tbody>\n",
       "</table>\n",
       "<p>71 rows × 1 columns</p>\n",
       "</div>"
      ],
      "text/plain": [
       "            date\n",
       "2018-07-15    65\n",
       "2019-07-20    65\n",
       "2017-07-10    65\n",
       "2017-07-30    65\n",
       "2019-03-12    65\n",
       "...          ...\n",
       "2017-12-27    65\n",
       "2017-09-08    65\n",
       "2017-05-01    65\n",
       "2019-01-21    65\n",
       "2018-06-05    65\n",
       "\n",
       "[71 rows x 1 columns]"
      ]
     },
     "execution_count": 182,
     "metadata": {},
     "output_type": "execute_result"
    }
   ],
   "source": [
    "df['date'].value_counts()\n",
    "dates = df['date'].value_counts()\n",
    "dates = dates.to_frame()\n",
    "dates.to_csv(\"../../data/1_raw/dates.csv\", header=False)\n",
    "dates"
   ]
  },
  {
   "cell_type": "code",
   "execution_count": 183,
   "metadata": {},
   "outputs": [
    {
     "data": {
      "text/html": [
       "<div>\n",
       "<style scoped>\n",
       "    .dataframe tbody tr th:only-of-type {\n",
       "        vertical-align: middle;\n",
       "    }\n",
       "\n",
       "    .dataframe tbody tr th {\n",
       "        vertical-align: top;\n",
       "    }\n",
       "\n",
       "    .dataframe thead th {\n",
       "        text-align: right;\n",
       "    }\n",
       "</style>\n",
       "<table border=\"1\" class=\"dataframe\">\n",
       "  <thead>\n",
       "    <tr style=\"text-align: right;\">\n",
       "      <th></th>\n",
       "      <th>date</th>\n",
       "      <th>N_tiles</th>\n",
       "    </tr>\n",
       "  </thead>\n",
       "  <tbody>\n",
       "    <tr>\n",
       "      <td>0</td>\n",
       "      <td>2018-07-15</td>\n",
       "      <td>65</td>\n",
       "    </tr>\n",
       "    <tr>\n",
       "      <td>1</td>\n",
       "      <td>2019-07-20</td>\n",
       "      <td>65</td>\n",
       "    </tr>\n",
       "    <tr>\n",
       "      <td>2</td>\n",
       "      <td>2017-07-10</td>\n",
       "      <td>65</td>\n",
       "    </tr>\n",
       "    <tr>\n",
       "      <td>3</td>\n",
       "      <td>2017-07-30</td>\n",
       "      <td>65</td>\n",
       "    </tr>\n",
       "    <tr>\n",
       "      <td>4</td>\n",
       "      <td>2019-03-12</td>\n",
       "      <td>65</td>\n",
       "    </tr>\n",
       "    <tr>\n",
       "      <td>...</td>\n",
       "      <td>...</td>\n",
       "      <td>...</td>\n",
       "    </tr>\n",
       "    <tr>\n",
       "      <td>66</td>\n",
       "      <td>2017-12-27</td>\n",
       "      <td>65</td>\n",
       "    </tr>\n",
       "    <tr>\n",
       "      <td>67</td>\n",
       "      <td>2017-09-08</td>\n",
       "      <td>65</td>\n",
       "    </tr>\n",
       "    <tr>\n",
       "      <td>68</td>\n",
       "      <td>2017-05-01</td>\n",
       "      <td>65</td>\n",
       "    </tr>\n",
       "    <tr>\n",
       "      <td>69</td>\n",
       "      <td>2019-01-21</td>\n",
       "      <td>65</td>\n",
       "    </tr>\n",
       "    <tr>\n",
       "      <td>70</td>\n",
       "      <td>2018-06-05</td>\n",
       "      <td>65</td>\n",
       "    </tr>\n",
       "  </tbody>\n",
       "</table>\n",
       "<p>71 rows × 2 columns</p>\n",
       "</div>"
      ],
      "text/plain": [
       "          date  N_tiles\n",
       "0   2018-07-15       65\n",
       "1   2019-07-20       65\n",
       "2   2017-07-10       65\n",
       "3   2017-07-30       65\n",
       "4   2019-03-12       65\n",
       "..         ...      ...\n",
       "66  2017-12-27       65\n",
       "67  2017-09-08       65\n",
       "68  2017-05-01       65\n",
       "69  2019-01-21       65\n",
       "70  2018-06-05       65\n",
       "\n",
       "[71 rows x 2 columns]"
      ]
     },
     "execution_count": 183,
     "metadata": {},
     "output_type": "execute_result"
    }
   ],
   "source": [
    "dates_df = pd.read_csv(\"../../data/1_raw/dates.csv\", names=[\"date\", \"N_tiles\"])\n",
    "dates_df"
   ]
  },
  {
   "cell_type": "code",
   "execution_count": 184,
   "metadata": {},
   "outputs": [],
   "source": [
    "dates_df = dates_df.sort_values(by=['date'], ascending=True)\n",
    "dates_df.to_csv(\"../../data/1_raw/dates.csv\", header=True, index=False)"
   ]
  }
 ],
 "metadata": {
  "kernelspec": {
   "display_name": "Python 3",
   "language": "python",
   "name": "python3"
  },
  "language_info": {
   "codemirror_mode": {
    "name": "ipython",
    "version": 3
   },
   "file_extension": ".py",
   "mimetype": "text/x-python",
   "name": "python",
   "nbconvert_exporter": "python",
   "pygments_lexer": "ipython3",
   "version": "3.7.3"
  }
 },
 "nbformat": 4,
 "nbformat_minor": 2
}
