{
 "cells": [
  {
   "cell_type": "code",
   "execution_count": 3,
   "metadata": {},
   "outputs": [],
   "source": [
    "# import INSTANCE_ID and LAYER_NAME from config file\n",
    "from sentinel_hub_config import *"
   ]
  },
  {
   "cell_type": "code",
   "execution_count": 4,
   "metadata": {},
   "outputs": [],
   "source": [
    "%reload_ext autoreload\n",
    "%autoreload 2\n",
    "%matplotlib inline"
   ]
  },
  {
   "cell_type": "code",
   "execution_count": 5,
   "metadata": {},
   "outputs": [
    {
     "name": "stderr",
     "output_type": "stream",
     "text": [
      "/usr/local/lib/python3.6/dist-packages/sklearn/externals/joblib/__init__.py:15: DeprecationWarning: sklearn.externals.joblib is deprecated in 0.21 and will be removed in 0.23. Please import this functionality directly from joblib, which can be installed with: pip install joblib. If this warning is raised when loading pickled models, you may need to re-serialize those models with scikit-learn 0.21+.\n",
      "  warnings.warn(msg, category=DeprecationWarning)\n"
     ]
    }
   ],
   "source": [
    "from datetime import datetime\n",
    "\n",
    "import matplotlib.pyplot as plt\n",
    "import pandas as pd\n",
    "import numpy as np\n",
    "import os\n",
    "import glob\n",
    "import cv2\n",
    "\n",
    "import gzip\n",
    "import numpy\n",
    "\n",
    "import os.path\n",
    "from os import path\n",
    "\n",
    "from sentinelhub import WmsRequest, BBox, CRS, MimeType, CustomUrlParam, get_area_dates\n",
    "from s2cloudless import S2PixelCloudDetector, CloudMaskRequest\n",
    "%matplotlib inline"
   ]
  },
  {
   "cell_type": "code",
   "execution_count": 6,
   "metadata": {},
   "outputs": [
    {
     "name": "stdout",
     "output_type": "stream",
     "text": [
      "/home/brendan/sdthon/code/1_raw\r\n"
     ]
    }
   ],
   "source": [
    "!pwd"
   ]
  },
  {
   "cell_type": "code",
   "execution_count": 7,
   "metadata": {},
   "outputs": [],
   "source": [
    "coords = pd.read_csv(\"../../data/1_raw/coordinates.csv\")\n",
    "tiles = pd.read_csv(\"../../data/1_raw/tiles.csv\")\n",
    "dates = pd.read_csv(\"../../data/1_raw/dates.csv\")"
   ]
  },
  {
   "cell_type": "code",
   "execution_count": 8,
   "metadata": {},
   "outputs": [
    {
     "data": {
      "text/html": [
       "<div>\n",
       "<style scoped>\n",
       "    .dataframe tbody tr th:only-of-type {\n",
       "        vertical-align: middle;\n",
       "    }\n",
       "\n",
       "    .dataframe tbody tr th {\n",
       "        vertical-align: top;\n",
       "    }\n",
       "\n",
       "    .dataframe thead th {\n",
       "        text-align: right;\n",
       "    }\n",
       "</style>\n",
       "<table border=\"1\" class=\"dataframe\">\n",
       "  <thead>\n",
       "    <tr style=\"text-align: right;\">\n",
       "      <th></th>\n",
       "      <th>tile</th>\n",
       "      <th>N_dates</th>\n",
       "      <th>tile_x</th>\n",
       "      <th>tile_y</th>\n",
       "    </tr>\n",
       "  </thead>\n",
       "  <tbody>\n",
       "    <tr>\n",
       "      <th>0</th>\n",
       "      <td>1536_1024</td>\n",
       "      <td>71</td>\n",
       "      <td>1536</td>\n",
       "      <td>1024</td>\n",
       "    </tr>\n",
       "    <tr>\n",
       "      <th>1</th>\n",
       "      <td>1536_1536</td>\n",
       "      <td>71</td>\n",
       "      <td>1536</td>\n",
       "      <td>1536</td>\n",
       "    </tr>\n",
       "    <tr>\n",
       "      <th>2</th>\n",
       "      <td>2048_1024</td>\n",
       "      <td>71</td>\n",
       "      <td>2048</td>\n",
       "      <td>1024</td>\n",
       "    </tr>\n",
       "    <tr>\n",
       "      <th>3</th>\n",
       "      <td>2048_1536</td>\n",
       "      <td>71</td>\n",
       "      <td>2048</td>\n",
       "      <td>1536</td>\n",
       "    </tr>\n",
       "    <tr>\n",
       "      <th>4</th>\n",
       "      <td>4608_4608</td>\n",
       "      <td>71</td>\n",
       "      <td>4608</td>\n",
       "      <td>4608</td>\n",
       "    </tr>\n",
       "  </tbody>\n",
       "</table>\n",
       "</div>"
      ],
      "text/plain": [
       "        tile  N_dates  tile_x  tile_y\n",
       "0  1536_1024       71    1536    1024\n",
       "1  1536_1536       71    1536    1536\n",
       "2  2048_1024       71    2048    1024\n",
       "3  2048_1536       71    2048    1536\n",
       "4  4608_4608       71    4608    4608"
      ]
     },
     "execution_count": 8,
     "metadata": {},
     "output_type": "execute_result"
    }
   ],
   "source": [
    "coords.head()\n",
    "tiles.head()\n",
    "#dates.head()"
   ]
  },
  {
   "cell_type": "code",
   "execution_count": 9,
   "metadata": {},
   "outputs": [],
   "source": [
    "m = pd.merge(tiles, coords, how='left', on=['tile_x', 'tile_y'])"
   ]
  },
  {
   "cell_type": "code",
   "execution_count": 10,
   "metadata": {},
   "outputs": [],
   "source": [
    "m.shape\n",
    "m.head()\n",
    "m = m[['tile_x', 'tile_y', 'x1', 'y1', 'x3', 'y3']]"
   ]
  },
  {
   "cell_type": "code",
   "execution_count": 11,
   "metadata": {},
   "outputs": [
    {
     "data": {
      "text/plain": [
       "65"
      ]
     },
     "execution_count": 11,
     "metadata": {},
     "output_type": "execute_result"
    }
   ],
   "source": [
    "m.shape[0]"
   ]
  },
  {
   "cell_type": "code",
   "execution_count": 12,
   "metadata": {},
   "outputs": [],
   "source": [
    "os.chdir(\"../../data/phase-02\")"
   ]
  },
  {
   "cell_type": "code",
   "execution_count": 13,
   "metadata": {},
   "outputs": [
    {
     "data": {
      "text/plain": [
       "(65, 6)"
      ]
     },
     "execution_count": 13,
     "metadata": {},
     "output_type": "execute_result"
    }
   ],
   "source": [
    "m.shape"
   ]
  },
  {
   "cell_type": "code",
   "execution_count": 14,
   "metadata": {},
   "outputs": [
    {
     "name": "stdout",
     "output_type": "stream",
     "text": [
      "/home/brendan/sdthon/data/phase-02\r\n"
     ]
    }
   ],
   "source": [
    "!pwd"
   ]
  },
  {
   "cell_type": "code",
   "execution_count": 15,
   "metadata": {},
   "outputs": [],
   "source": [
    "def get_img(date_str, x, y, bbox_coords_wgs84):\n",
    "\n",
    "    bounding_box = BBox(bbox_coords_wgs84, crs=CRS.WGS84)\n",
    "\n",
    "    wms_true_color_request = WmsRequest(layer=LAYER_NAME,\n",
    "                                    bbox=bounding_box, \n",
    "                                    time=(date_str), \n",
    "                                    width=512, height=512,\n",
    "                                    image_format=MimeType.PNG,\n",
    "                                    instance_id=INSTANCE_ID)\n",
    "\n",
    "    date = wms_true_color_request.get_dates()\n",
    "    print(date)\n",
    "    wms_true_color_imgs = wms_true_color_request.get_data()\n",
    "\n",
    "    plt.imsave(f'{x}-{y}-img-{date_str}.png', wms_true_color_imgs[0])"
   ]
  },
  {
   "cell_type": "code",
   "execution_count": 16,
   "metadata": {},
   "outputs": [
    {
     "data": {
      "text/html": [
       "<div>\n",
       "<style scoped>\n",
       "    .dataframe tbody tr th:only-of-type {\n",
       "        vertical-align: middle;\n",
       "    }\n",
       "\n",
       "    .dataframe tbody tr th {\n",
       "        vertical-align: top;\n",
       "    }\n",
       "\n",
       "    .dataframe thead th {\n",
       "        text-align: right;\n",
       "    }\n",
       "</style>\n",
       "<table border=\"1\" class=\"dataframe\">\n",
       "  <thead>\n",
       "    <tr style=\"text-align: right;\">\n",
       "      <th></th>\n",
       "      <th>date</th>\n",
       "      <th>N_tiles</th>\n",
       "    </tr>\n",
       "  </thead>\n",
       "  <tbody>\n",
       "    <tr>\n",
       "      <th>0</th>\n",
       "      <td>2016-12-22</td>\n",
       "      <td>65</td>\n",
       "    </tr>\n",
       "    <tr>\n",
       "      <th>1</th>\n",
       "      <td>2017-01-01</td>\n",
       "      <td>65</td>\n",
       "    </tr>\n",
       "    <tr>\n",
       "      <th>2</th>\n",
       "      <td>2017-01-11</td>\n",
       "      <td>65</td>\n",
       "    </tr>\n",
       "    <tr>\n",
       "      <th>3</th>\n",
       "      <td>2017-02-10</td>\n",
       "      <td>65</td>\n",
       "    </tr>\n",
       "    <tr>\n",
       "      <th>4</th>\n",
       "      <td>2017-02-20</td>\n",
       "      <td>65</td>\n",
       "    </tr>\n",
       "  </tbody>\n",
       "</table>\n",
       "</div>"
      ],
      "text/plain": [
       "         date  N_tiles\n",
       "0  2016-12-22       65\n",
       "1  2017-01-01       65\n",
       "2  2017-01-11       65\n",
       "3  2017-02-10       65\n",
       "4  2017-02-20       65"
      ]
     },
     "execution_count": 16,
     "metadata": {},
     "output_type": "execute_result"
    }
   ],
   "source": [
    "dates.head()"
   ]
  },
  {
   "cell_type": "code",
   "execution_count": 17,
   "metadata": {},
   "outputs": [],
   "source": [
    "dates_array = dates['date']"
   ]
  },
  {
   "cell_type": "code",
   "execution_count": 18,
   "metadata": {},
   "outputs": [
    {
     "name": "stdout",
     "output_type": "stream",
     "text": [
      "[datetime.datetime(2016, 12, 22, 0, 20, 59)]\n"
     ]
    }
   ],
   "source": [
    "x = 7680\n",
    "y = 10240\n",
    "bbox_coords_wgs84 = [148.69880265667112,-20.81291008367845, 148.74841411882176, -20.858591175163056]\n",
    "date_str = '2016-12-22'\n",
    "    \n",
    "get_img(date_str, x, y, bbox_coords_wgs84)"
   ]
  },
  {
   "cell_type": "code",
   "execution_count": 19,
   "metadata": {},
   "outputs": [],
   "source": [
    "cloud_detector = S2PixelCloudDetector(threshold=0.4, average_over=4, dilation_size=2)"
   ]
  },
  {
   "cell_type": "code",
   "execution_count": 20,
   "metadata": {},
   "outputs": [],
   "source": [
    "def get_bands(date_str, x, y, bbox_coords_wgs84):\n",
    "\n",
    "    bands_script = 'return [B01,B02,B04,B05,B08,B8A,B09,B10,B11,B12]'\n",
    "\n",
    "    bounding_box = BBox(bbox_coords_wgs84, crs=CRS.WGS84)\n",
    "\n",
    "    wms_bands_request = WmsRequest(layer=LAYER_NAME,\n",
    "                               custom_url_params={\n",
    "                                   CustomUrlParam.EVALSCRIPT: bands_script,\n",
    "                                   CustomUrlParam.ATMFILTER: 'NONE'\n",
    "                               },\n",
    "                               bbox=bounding_box, \n",
    "                               time=(date_str), \n",
    "                               width=512, height=512,\n",
    "                               image_format=MimeType.TIFF_d32f,\n",
    "                               instance_id=INSTANCE_ID)\n",
    "    \n",
    "    wms_bands = wms_bands_request.get_data()\n",
    "    \n",
    "    #print(len(wms_bands))\n",
    "    #print(wms_bands[0].shape)\n",
    "    \n",
    "    return(wms_bands)"
   ]
  },
  {
   "cell_type": "code",
   "execution_count": 21,
   "metadata": {
    "scrolled": true
   },
   "outputs": [],
   "source": [
    "x = 7680\n",
    "y = 10240\n",
    "bbox_coords_wgs84 = [148.69880265667112,-20.81291008367845, 148.74841411882176, -20.858591175163056]\n",
    "date_str = '2016-12-22'\n",
    "\n",
    "def get_cloud_all_dates(x, y, bbox_coords_wgs84, dates_array):\n",
    "\n",
    "    for date_str in dates_array:\n",
    "        if not path.exists(f'{x}-{y}-mask-{date_str}.png') and not path.exists(f'{x}-{y}-prob-{date_str}.png'):\n",
    "            print(f'x{x}-y{y}-{date_str}')\n",
    "            wms_bands = get_bands(date_str, x, y, bbox_coords_wgs84)\n",
    "\n",
    "            cloud_probs = cloud_detector.get_cloud_probability_maps(np.array(wms_bands))\n",
    "            cloud_masks = cloud_detector.get_cloud_masks(np.array(wms_bands))\n",
    "            cloud_probs = cloud_probs.round(decimals=2, out=None)\n",
    "            plt.imsave(f'{x}-{y}-prob-{date_str}.png', cloud_probs[0])\n",
    "            plt.imsave(f'{x}-{y}-mask-{date_str}.png', cloud_masks[0])\n",
    "            f = gzip.GzipFile(f\"{x}-{y}-prob-{date_str}.npy.gz\", \"w\")\n",
    "            numpy.save(file=f, arr=cloud_probs[0])\n",
    "            f.close()"
   ]
  },
  {
   "cell_type": "code",
   "execution_count": 22,
   "metadata": {},
   "outputs": [],
   "source": [
    "def get_cloud_cover(x, y, bbox_coords_wgs84, dates_array):\n",
    "\n",
    "    colnames = ['cc_p20', 'cc_p40', 'cc_p60', 'cc_p80', 'cc_default', 'date', 'x', 'y']\n",
    "    for date_str in dates_array:\n",
    "        if not path.exists(f'{x}-{y}-cloud-{date_str}.csv'):\n",
    "            print(f'x{x}-y{y}-{date_str}')\n",
    "            wms_bands = get_bands(date_str, x, y, bbox_coords_wgs84)\n",
    "\n",
    "            cloud_probs = cloud_detector.get_cloud_probability_maps(np.array(wms_bands))\n",
    "            cloud_masks = cloud_detector.get_cloud_masks(np.array(wms_bands))\n",
    "\n",
    "            cc_p20 = np.sum(np.array([np.where(cloud_probs[0] > 0.2, 1, 0)])[0])                    \n",
    "            cc_p40 = np.sum(np.array([np.where(cloud_probs[0] > 0.4, 1, 0)])[0])\n",
    "            cc_p60 = np.sum(np.array([np.where(cloud_probs[0] > 0.6, 1, 0)])[0])        \n",
    "            cc_p80 = np.sum(np.array([np.where(cloud_probs[0] > 0.8, 1, 0)])[0])\n",
    "\n",
    "            cc_default = np.sum(cloud_masks[0])\n",
    "            r = pd.DataFrame([[cc_p20, cc_p40, cc_p60, cc_p80, cc_default, date_str, x, y]], columns= colnames)\n",
    "            r.to_csv(f'{x}-{y}-cloud-{date_str}.csv')\n",
    "            \n",
    "            cloud_probs = cloud_probs.round(decimals=2, out=None)\n",
    "            plt.imsave(f'{x}-{y}-prob-{date_str}.png', cloud_probs[0])\n",
    "            plt.imsave(f'{x}-{y}-mask-{date_str}.png', cloud_masks[0])\n",
    "            f = gzip.GzipFile(f\"{x}-{y}-prob-{date_str}.npy.gz\", \"w\")\n",
    "            numpy.save(file=f, arr=cloud_probs[0])\n",
    "            f.close()\n"
   ]
  },
  {
   "cell_type": "code",
   "execution_count": null,
   "metadata": {
    "scrolled": true
   },
   "outputs": [
    {
     "name": "stdout",
     "output_type": "stream",
     "text": [
      "i:2, x:2048, y:1024, [148.1515676203218, -19.984663182667305, 148.20075266660697, -20.030503449080147]\n",
      "x2048-y1024-2016-12-22\n",
      "x2048-y1024-2017-01-01\n",
      "x2048-y1024-2017-01-11\n",
      "x2048-y1024-2017-02-10\n",
      "x2048-y1024-2017-02-20\n",
      "x2048-y1024-2017-03-02\n",
      "x2048-y1024-2017-03-12\n",
      "x2048-y1024-2017-04-01\n",
      "x2048-y1024-2017-04-11\n",
      "x2048-y1024-2017-05-01\n",
      "x2048-y1024-2017-05-11\n",
      "x2048-y1024-2017-05-21\n",
      "x2048-y1024-2017-05-31\n",
      "x2048-y1024-2017-06-20\n",
      "x2048-y1024-2017-07-10\n",
      "x2048-y1024-2017-07-20\n",
      "x2048-y1024-2017-07-30\n",
      "x2048-y1024-2017-08-09\n",
      "x2048-y1024-2017-08-19\n",
      "x2048-y1024-2017-09-08\n",
      "x2048-y1024-2017-09-18\n",
      "x2048-y1024-2017-09-28\n",
      "x2048-y1024-2017-10-08\n",
      "x2048-y1024-2017-10-28\n",
      "x2048-y1024-2017-11-07\n",
      "x2048-y1024-2017-11-17\n",
      "x2048-y1024-2017-11-27\n",
      "x2048-y1024-2017-12-07\n",
      "x2048-y1024-2017-12-17\n",
      "x2048-y1024-2017-12-27\n",
      "x2048-y1024-2018-01-06\n",
      "x2048-y1024-2018-01-26\n",
      "x2048-y1024-2018-02-15\n",
      "x2048-y1024-2018-03-17\n",
      "x2048-y1024-2018-04-16\n",
      "x2048-y1024-2018-04-26\n",
      "x2048-y1024-2018-05-06\n",
      "x2048-y1024-2018-05-26\n",
      "x2048-y1024-2018-06-05\n",
      "x2048-y1024-2018-06-15\n",
      "x2048-y1024-2018-06-25\n",
      "x2048-y1024-2018-07-05\n",
      "x2048-y1024-2018-07-15\n",
      "x2048-y1024-2018-07-25\n",
      "x2048-y1024-2018-08-04\n",
      "x2048-y1024-2018-08-14\n",
      "x2048-y1024-2018-08-24\n",
      "x2048-y1024-2018-09-03\n",
      "x2048-y1024-2018-09-13\n",
      "x2048-y1024-2018-10-03\n",
      "x2048-y1024-2018-10-23\n",
      "x2048-y1024-2018-11-02\n",
      "x2048-y1024-2018-11-12\n",
      "x2048-y1024-2018-11-22\n",
      "x2048-y1024-2018-12-02\n",
      "x2048-y1024-2019-01-01\n",
      "x2048-y1024-2019-01-21\n",
      "x2048-y1024-2019-02-20\n",
      "x2048-y1024-2019-03-02\n",
      "x2048-y1024-2019-03-12\n"
     ]
    }
   ],
   "source": [
    "for i in range(2, m.shape[0]):\n",
    "    bbox_coords_wgs84 = m.loc[[i,]][['x1','y1','x3','y3']].values.tolist()[0]\n",
    "    x = m.loc[[i,]][['tile_x','tile_y']].values.tolist()[0][0]\n",
    "    y = m.loc[[i,]][['tile_x','tile_y']].values.tolist()[0][1]\n",
    "    print(f\"i:{i}, x:{x}, y:{y}, {bbox_coords_wgs84}\")\n",
    "    if i != 59:\n",
    "        get_cloud_cover(x, y, bbox_coords_wgs84, dates_array)\n",
    "        #get_cloud_all_dates(x, y, bbox_coords_wgs84, dates_array)\n",
    "    "
   ]
  },
  {
   "cell_type": "code",
   "execution_count": null,
   "metadata": {},
   "outputs": [],
   "source": [
    "date_str='2017-05-31'\n",
    "x=1536 \n",
    "y=1536\n",
    "bbox_coords_wgs84=[148.10297228244568, -20.031237148182274, 148.1521576054924, -20.077091525735625]"
   ]
  },
  {
   "cell_type": "code",
   "execution_count": null,
   "metadata": {},
   "outputs": [],
   "source": [
    "\"\"\"\n",
    "wms_bands = get_bands(date_str, x, y, bbox_coords_wgs84)\n",
    "\n",
    "cloud_probs = cloud_detector.get_cloud_probability_maps(np.array(wms_bands))\n",
    "cloud_masks = cloud_detector.get_cloud_masks(np.array(wms_bands))\n",
    "cloud_probs = cloud_probs.round(decimals=2, out=None)\n",
    "plt.imsave(f'{x}-{y}-prob-{date_str}.png', cloud_probs[0])\n",
    "plt.imsave(f'{x}-{y}-mask-{date_str}.png', cloud_masks[0])\n",
    "f = gzip.GzipFile(f\"{x}-{y}-prob-{date_str}.npy.gz\", \"w\")\n",
    "numpy.save(file=f, arr=cloud_probs[0])\n",
    "f.close()\n",
    "\"\"\"\n"
   ]
  },
  {
   "cell_type": "code",
   "execution_count": null,
   "metadata": {},
   "outputs": [],
   "source": [
    "\"\"\"\n",
    "cloud_probs.shape\n",
    "cloud_probs[0]\n",
    "cloud_masks.shape\n",
    "cloud_masks[0]\n",
    "cloud_probs = cloud_probs.round(decimals=2, out=None)\n",
    "plt.imsave(f'{x}-{y}-prob-{date_str}.png', cloud_probs[0])\n",
    "plt.imsave(f'{x}-{y}-mask-{date_str}.png', cloud_masks[0])\n",
    "\"\"\""
   ]
  },
  {
   "cell_type": "code",
   "execution_count": null,
   "metadata": {},
   "outputs": [],
   "source": [
    "cloud_probs[0]"
   ]
  },
  {
   "cell_type": "code",
   "execution_count": null,
   "metadata": {},
   "outputs": [],
   "source": [
    "\"\"\"\n",
    "import gzip\n",
    "import numpy\n",
    "f = gzip.GzipFile(f\"{x}-{y}-prob-{date_str}.npy.gz\", \"w\")\n",
    "numpy.save(file=f, arr=cloud_probs[0])\n",
    "f.close()\n",
    "\"\"\"\n"
   ]
  },
  {
   "cell_type": "code",
   "execution_count": null,
   "metadata": {},
   "outputs": [],
   "source": [
    "f = gzip.GzipFile(f\"{x}-{y}-prob-{date_str}.npy.gz\", \"r\")\n",
    "a = np.load(f)"
   ]
  },
  {
   "cell_type": "code",
   "execution_count": null,
   "metadata": {},
   "outputs": [],
   "source": [
    "pd.DataFrame(a)"
   ]
  },
  {
   "cell_type": "code",
   "execution_count": null,
   "metadata": {},
   "outputs": [],
   "source": [
    "#f.close()\n"
   ]
  },
  {
   "cell_type": "code",
   "execution_count": null,
   "metadata": {},
   "outputs": [],
   "source": [
    "\"\"\"\n",
    "import h5py, numpy as np\n",
    "\n",
    "#arr = np.random.randint(0, 10, (1000, 1000))\n",
    "\n",
    "f = h5py.File('file.h5', 'w', libver='latest')  # use 'latest' for performance\n",
    "\n",
    "dset = f.create_dataset('array', shape=(512, 512), data=cloud_probs[0], chunks=(100, 100),\n",
    "                        compression='gzip', compression_opts=9)\n",
    "\n",
    "f.close()\n",
    "#https://stackoverflow.com/questions/49740190/saving-in-a-file-an-array-or-dataframe-together-with-other-information\n",
    "\"\"\"\n"
   ]
  },
  {
   "cell_type": "code",
   "execution_count": null,
   "metadata": {},
   "outputs": [],
   "source": [
    "\n",
    "\"\"\"\n",
    "pd.DataFrame(a).to_hdf('file2.h5', 'table', mode='w',append=True, complevel=9, complib='zlib')\n",
    "\n",
    "#https://dziganto.github.io/out-of-core%20computation/HDF5-Or-How-I-Learned-To-Love-Data-Compression-And-Partial-Input-Output/\n",
    "compressors = ['blosc', 'bzip2', 'zlib']\n",
    "for compressor in compressors:\n",
    "    X_train.to_hdf('filepath_' + str(compressor) + '.h5', \n",
    "                   'table', mode='w', append=True, complevel=9, complib=compressor)\n",
    "    X_test.to_hdf('filepath_' + str(compressor) + '.h5', \n",
    "                   'table', mode='w', append=True, complevel=9, complib=compressor)\n",
    "\"\"\"\n"
   ]
  },
  {
   "cell_type": "code",
   "execution_count": null,
   "metadata": {},
   "outputs": [],
   "source": [
    "cloud_masks[0].shape"
   ]
  },
  {
   "cell_type": "code",
   "execution_count": null,
   "metadata": {},
   "outputs": [],
   "source": [
    "#np.savetxt('x.txt',cloud_probs[0])"
   ]
  },
  {
   "cell_type": "code",
   "execution_count": null,
   "metadata": {},
   "outputs": [],
   "source": [
    "#cv2.imwrite(f'{x}-{y}-prob-{date_str}.png', cloud_probs[0])\n"
   ]
  },
  {
   "cell_type": "code",
   "execution_count": null,
   "metadata": {},
   "outputs": [],
   "source": [
    "#plt.imshow(cloud_probs[0])\n"
   ]
  },
  {
   "cell_type": "code",
   "execution_count": null,
   "metadata": {},
   "outputs": [],
   "source": [
    "#cp = cv2.imread(f'{x}-{y}-prob-{date_str}.png')\n",
    "#cp"
   ]
  },
  {
   "cell_type": "code",
   "execution_count": null,
   "metadata": {},
   "outputs": [],
   "source": [
    "#def rgb2gray(rgb):\n",
    "#    return np.dot(rgb[...,:3], [0.2989, 0.5870, 0.1140])\n",
    "\n",
    "#gray = rgb2gray(cp)    \n",
    "#gray/255"
   ]
  },
  {
   "cell_type": "code",
   "execution_count": null,
   "metadata": {},
   "outputs": [],
   "source": [
    "#plt.imshow(gray)\n",
    "#cp"
   ]
  },
  {
   "cell_type": "code",
   "execution_count": null,
   "metadata": {},
   "outputs": [],
   "source": [
    "\"\"\"\n",
    "from PIL import Image\n",
    "from numpy import asarray\n",
    "image = Image.open(f'{x}-{y}-prob-{date_str}.png')\n",
    "#plt.imshow(image)\n",
    "gs_image = image.convert(mode='L')\n",
    "plt.imshow(gs_image)\n",
    "asarray(gs_image)\n",
    "\"\"\"\n"
   ]
  },
  {
   "cell_type": "code",
   "execution_count": null,
   "metadata": {},
   "outputs": [],
   "source": [
    "cm = np.array([np.where(cloud_probs[0] > 0.4, 1, 0)])"
   ]
  },
  {
   "cell_type": "code",
   "execution_count": null,
   "metadata": {},
   "outputs": [],
   "source": [
    "np.sum(cm[0])"
   ]
  },
  {
   "cell_type": "code",
   "execution_count": null,
   "metadata": {},
   "outputs": [],
   "source": [
    "#cloud_masks = cloud_detector.get_cloud_masks(np.array(wms_bands))"
   ]
  },
  {
   "cell_type": "code",
   "execution_count": null,
   "metadata": {},
   "outputs": [],
   "source": [
    "#cloud_masks.shape"
   ]
  },
  {
   "cell_type": "code",
   "execution_count": null,
   "metadata": {},
   "outputs": [],
   "source": [
    "#np.sum(cloud_masks[0])"
   ]
  },
  {
   "cell_type": "code",
   "execution_count": null,
   "metadata": {},
   "outputs": [],
   "source": [
    "#cm.shape"
   ]
  },
  {
   "cell_type": "code",
   "execution_count": null,
   "metadata": {},
   "outputs": [],
   "source": [
    "image_idx = 0\n",
    "#plot_probability_map(wms_true_color_imgs[image_idx], cloud_probs[image_idx])"
   ]
  },
  {
   "cell_type": "code",
   "execution_count": null,
   "metadata": {},
   "outputs": [],
   "source": [
    "image_idx = 0\n",
    "#overlay_cloud_mask(wms_true_color_imgs[image_idx], cm[image_idx])"
   ]
  },
  {
   "cell_type": "code",
   "execution_count": null,
   "metadata": {},
   "outputs": [],
   "source": [
    "image_idx = 0\n",
    "#overlay_cloud_mask(wms_true_color_imgs[image_idx], cloud_masks[image_idx])"
   ]
  },
  {
   "cell_type": "code",
   "execution_count": null,
   "metadata": {},
   "outputs": [],
   "source": [
    "len(wms_bands)"
   ]
  },
  {
   "cell_type": "code",
   "execution_count": null,
   "metadata": {},
   "outputs": [],
   "source": [
    "wms_bands[0]"
   ]
  }
 ],
 "metadata": {
  "kernelspec": {
   "display_name": "Python 3",
   "language": "python",
   "name": "python3"
  },
  "language_info": {
   "codemirror_mode": {
    "name": "ipython",
    "version": 3
   },
   "file_extension": ".py",
   "mimetype": "text/x-python",
   "name": "python",
   "nbconvert_exporter": "python",
   "pygments_lexer": "ipython3",
   "version": "3.6.8"
  }
 },
 "nbformat": 4,
 "nbformat_minor": 2
}
