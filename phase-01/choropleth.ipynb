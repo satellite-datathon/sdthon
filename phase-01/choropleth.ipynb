{
 "cells": [
  {
   "cell_type": "code",
   "execution_count": 1,
   "metadata": {},
   "outputs": [
    {
     "name": "stdout",
     "output_type": "stream",
     "text": [
      "choropleth.ipynb  demo.py\t       harvest_code.py\t s2cloudless_ex.ipynb\r\n",
      "cloud_cover.csv   guide.pdf\t       harvested.csv\r\n",
      "cloud_cover.py\t  harvest_cloud.py     readme.md\r\n",
      "data\t\t  harvest_code_csv.py  requirements.txt\r\n"
     ]
    }
   ],
   "source": [
    "!ls"
   ]
  },
  {
   "cell_type": "code",
   "execution_count": 3,
   "metadata": {},
   "outputs": [
    {
     "data": {
      "text/plain": [
       "{'crs': {'properties': {'name': 'urn:ogc:def:crs:OGC:1.3:CRS84'},\n",
       "  'type': 'name'},\n",
       " 'features': [{'geometry': {'coordinates': [[[148.69880265667112,\n",
       "       -20.81291008367845],\n",
       "      [148.74789135375457, -20.8124269354772],\n",
       "      [148.74841411882176, -20.858591175163056],\n",
       "      [148.69931035985314, -20.859074739547466],\n",
       "      [148.69880265667112, -20.81291008367845]]],\n",
       "    'type': 'Polygon'},\n",
       "   'properties': {},\n",
       "   'type': 'Feature'}],\n",
       " 'type': 'FeatureCollection'}"
      ]
     },
     "execution_count": 3,
     "metadata": {},
     "output_type": "execute_result"
    }
   ],
   "source": [
    "import json\n",
    "\n",
    "file = open(\"./data/sentinel-2a-tile-7680x-10240y/geometry/file-x7680-y10240.geojson\", \"r\") \n",
    "\n",
    "tiles = json.load(file)\n",
    "\n",
    "tiles\n",
    "#counties[\"features\"][0]\n"
   ]
  },
  {
   "cell_type": "code",
   "execution_count": 6,
   "metadata": {},
   "outputs": [
    {
     "data": {
      "text/plain": [
       "[{'geometry': {'coordinates': [[[148.69880265667112, -20.81291008367845],\n",
       "     [148.74789135375457, -20.8124269354772],\n",
       "     [148.74841411882176, -20.858591175163056],\n",
       "     [148.69931035985314, -20.859074739547466],\n",
       "     [148.69880265667112, -20.81291008367845]]],\n",
       "   'type': 'Polygon'},\n",
       "  'properties': {},\n",
       "  'type': 'Feature'}]"
      ]
     },
     "execution_count": 6,
     "metadata": {},
     "output_type": "execute_result"
    }
   ],
   "source": [
    "tiles[\"features\"]"
   ]
  },
  {
   "cell_type": "code",
   "execution_count": 7,
   "metadata": {},
   "outputs": [
    {
     "data": {
      "text/plain": [
       "{'geometry': {'coordinates': [[[148.69880265667112, -20.81291008367845],\n",
       "    [148.74789135375457, -20.8124269354772],\n",
       "    [148.74841411882176, -20.858591175163056],\n",
       "    [148.69931035985314, -20.859074739547466],\n",
       "    [148.69880265667112, -20.81291008367845]]],\n",
       "  'type': 'Polygon'},\n",
       " 'properties': {},\n",
       " 'type': 'Feature'}"
      ]
     },
     "execution_count": 7,
     "metadata": {},
     "output_type": "execute_result"
    }
   ],
   "source": [
    "tiles[\"features\"][0]"
   ]
  },
  {
   "cell_type": "code",
   "execution_count": null,
   "metadata": {},
   "outputs": [],
   "source": []
  }
 ],
 "metadata": {
  "kernelspec": {
   "display_name": "Python 3",
   "language": "python",
   "name": "python3"
  },
  "language_info": {
   "codemirror_mode": {
    "name": "ipython",
    "version": 3
   },
   "file_extension": ".py",
   "mimetype": "text/x-python",
   "name": "python",
   "nbconvert_exporter": "python",
   "pygments_lexer": "ipython3",
   "version": "3.6.8"
  }
 },
 "nbformat": 4,
 "nbformat_minor": 2
}
